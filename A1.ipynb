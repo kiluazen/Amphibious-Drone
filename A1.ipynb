{
 "cells": [
  {
   "cell_type": "code",
   "execution_count": 341,
   "metadata": {},
   "outputs": [],
   "source": [
    "import numpy as np\n",
    "# import matplotlib.pyplot as plt\n",
    "# import math\n",
    "import pandas as pd"
   ]
  },
  {
   "cell_type": "markdown",
   "metadata": {},
   "source": [
    "1. Take-off from ship deck carrying the sonar\n",
    "2. Travel 5 km (on a calm day) over the sea\n",
    "3. Dive inside the water to a depth of about 500 meters\n",
    "4. Search the ocean bed and leave the payload at an appropriate location.\n",
    "5. Rise back to the surface\n",
    "6. Return to the ship and land.\n",
    "\n",
    "Relevant payload specifications:\n",
    "* Weight = 5 kg\n",
    "* Volume = 0.0025 m3\n",
    "* Water proof (until 1000m depth)"
   ]
  },
  {
   "cell_type": "markdown",
   "metadata": {},
   "source": [
    "1. Do the initial sizing of your vehicle rotor using Momentum Theory to decide on tentative\n",
    "rotor dimensions and power requirement in hover. \n",
    "\n",
    "    Also check the rotor’s estimated power requirement under water."
   ]
  },
  {
   "cell_type": "code",
   "execution_count": 342,
   "metadata": {},
   "outputs": [
    {
     "name": "stdout",
     "output_type": "stream",
     "text": [
      "The autoreload extension is already loaded. To reload it, use:\n",
      "  %reload_ext autoreload\n"
     ]
    }
   ],
   "source": [
    "from BET import BETheory\n",
    "from BEM import BEMTheory\n",
    "\n",
    "%matplotlib inline\n",
    "%load_ext autoreload\n",
    "%autoreload 2"
   ]
  },
  {
   "cell_type": "code",
   "execution_count": 358,
   "metadata": {},
   "outputs": [],
   "source": [
    "roAir = 1.225   # kg/m3 density of air\n",
    "roWater = 1000  # kg/m3\n",
    "g = 9.8         # m/s2\n",
    "\n",
    "# The airfoil : NACA 2412. Simply because They used that in this paper: file:///home/kushal/Downloads/placement/NACA2412_airfoil_based_method_for_design_and_aerod.pdf\n",
    "# Mean Chord length is defined below\n",
    "rBlade = 0.75  # 0.85 # m  Radius of the blade(rough estimate) : The estimate is made looking at this data: https://uav-en.tmotor.com/html/2019/Motor_1016/294.html\n",
    "R_co = 0.05 # mine was 0.15\n",
    "massOfStrutcutre= 10# kg this mass of everything other than payload mass.\n",
    "# angular_vel = 750*2*np.pi/60 \n",
    "angular_vel = 38\n",
    "V = 5\n",
    "# Given\n",
    "massOfPayload = 5\n",
    "volOfPayload = 0.0025\n",
    "b = 4       # no of Blades . Tentatively decided on three\n",
    "areaBlade = np.pi*(rBlade**2)\n",
    "\n",
    "total_vol = 0.008 # The payload is gonna be taking a place inside this volume"
   ]
  },
  {
   "cell_type": "code",
   "execution_count": 364,
   "metadata": {},
   "outputs": [],
   "source": [
    "def vel_power(V, medium='air'):\n",
    "    if medium == 'air':\n",
    "        T = (massOfStrutcutre + massOfPayload)*g; ro = roAir\n",
    "    elif medium == 'water':\n",
    "        ro = roWater\n",
    "        T = (massOfStrutcutre + massOfPayload)*g - total_vol*ro*g\n",
    "        \n",
    "    ind_vel_MT = (-1*V/2) + np.sqrt(((V/2)**2) + (T/(2*ro*areaBlade)))\n",
    "    power = T*(V + ind_vel_MT)\n",
    "    return round(ind_vel_MT, 5) , round(power,4)"
   ]
  },
  {
   "cell_type": "code",
   "execution_count": 361,
   "metadata": {},
   "outputs": [
    {
     "name": "stdout",
     "output_type": "stream",
     "text": [
      "---------- MOMENTUM THEORY ----------\n",
      "T_air = 147.0\n",
      "T_water = 68.6\n",
      "HOVER\n",
      "(Power, Induced Vel) = ( 856.5580,  5.8269)\n",
      "(Power, Induced Vel) = ( 9.5573,  0.1393)\n",
      "Climb Vel = 5\n",
      "(Power, Induced Vel) = ( 1299.5664,  3.2572)\n",
      "(Power, Induced Vel) = ( 343.2661,  0.0039)\n"
     ]
    }
   ],
   "source": [
    "print('--'*5, 'MOMENTUM THEORY', '--'*5)\n",
    "T_air = (massOfStrutcutre + massOfPayload)*g\n",
    "print(f'T_air = {T_air}')\n",
    "T_water = (massOfStrutcutre + massOfPayload)*g - total_vol*roWater*g\n",
    "print(f'T_water = {T_water}')\n",
    "print('HOVER')\n",
    "indVel_Hover_MT, powerHover = vel_power(0)\n",
    "print(f'(Power, Induced Vel) = ({powerHover: .4f}, {indVel_Hover_MT: .4f})')\n",
    "indVel_Hover_MT,powerHover = vel_power(0,'water')\n",
    "print(f'(Power, Induced Vel) = ({powerHover: .4f}, {indVel_Hover_MT: .4f})')\n",
    "\n",
    "indVEl_MT, powerClimb = vel_power(V)\n",
    "print(f'Climb Vel = {climbVel_MT}')\n",
    "print(f'(Power, Induced Vel) = ({powerClimb: .4f}, {indVel_MT: .4f})')\n",
    "# I think the power to go downward in underwater is not a problem(gravity takes care of it).\n",
    "indVel_MT_water,powerClimb_water = vel_power(V, 'water' )\n",
    "print(f'(Power, Induced Vel) = ({powerClimb_water: .4f}, {indVel_MT_water: .4f})')"
   ]
  },
  {
   "cell_type": "markdown",
   "metadata": {},
   "source": [
    "OBSERVATION\n",
    "\n",
    "The induced Velocity decreases in CLIMB\n"
   ]
  },
  {
   "cell_type": "code",
   "execution_count": 346,
   "metadata": {},
   "outputs": [
    {
     "name": "stdout",
     "output_type": "stream",
     "text": [
      "HOVER Induced Velocity =  5.8269\n"
     ]
    }
   ],
   "source": [
    "inducedVel_MT = np.sqrt(T_air/(2*roAir*areaBlade))\n",
    "print(f'HOVER Induced Velocity = {inducedVel_MT: .4f}')"
   ]
  },
  {
   "cell_type": "markdown",
   "metadata": {},
   "source": [
    "Wooh! That is significantly Low, we don't have to worry about water at all."
   ]
  },
  {
   "cell_type": "markdown",
   "metadata": {},
   "source": [
    "2. Make computational tools to implement BE Theory and BEM Theory with the Prandtl Tip \n",
    "Loss  model  (will  require  iterative  solving). \n",
    "    \n",
    "    The  program  will  be  used  for  design  purpose; \n",
    "hence it should be flexible enough to allow setting linear twist, linear taper, and root cut-outs, \n",
    "and non-zero climb velocity. "
   ]
  },
  {
   "cell_type": "code",
   "execution_count": 347,
   "metadata": {},
   "outputs": [
    {
     "name": "stdout",
     "output_type": "stream",
     "text": [
      "AoA for max Cl/Cd = 6.0\n",
      "Lift slope a = 6.2832\n"
     ]
    }
   ],
   "source": [
    "airfoil_file_path = './xf-naca2412-il-200000.csv'\n",
    "airfoil_data = pd.read_csv(airfoil_file_path, skiprows= 10)\n",
    "alpha_cl_cd_data = airfoil_data[['Alpha', 'Cl', 'Cd']]\n",
    "Cl = np.array(alpha_cl_cd_data['Cl'])\n",
    "Cd = np.array(alpha_cl_cd_data['Cd'])\n",
    "alpha = np.array(alpha_cl_cd_data['Alpha'])\n",
    "Cl_Cd = Cl/Cd\n",
    "alpha_optimum = alpha[np.argmax(Cl_Cd)]\n",
    "print(f'AoA for max Cl/Cd = {alpha_optimum}')\n",
    "# lift_slope = 0.107015*180/np.pi\n",
    "lift_slope = 2*np.pi\n",
    "print(f'Lift slope a = {lift_slope:.4f}')"
   ]
  },
  {
   "cell_type": "code",
   "execution_count": 348,
   "metadata": {},
   "outputs": [
    {
     "name": "stdout",
     "output_type": "stream",
     "text": [
      "1.1274 -0.7765\n",
      "32.19279633905401\n"
     ]
    }
   ],
   "source": [
    "# This code ensures that No point in r an airfoil experiences Stall\n",
    "# Esentially how its' done is we give a penalty for AoA > 13 and ask the optimizer to change A,B to minimize that penalty\n",
    "from scipy.optimize import minimize\n",
    "stall_angle = 12.5\n",
    "def calc_AoA(r_ratio, A, B):\n",
    "    tita = A + B*r_ratio*rBlade\n",
    "    phi = np.arctan((V + inducedVel_MT)/(angular_vel*r_ratio*rBlade))\n",
    "    return (tita - phi)*180/np.pi\n",
    "def objecive(x):\n",
    "    A,B =x\n",
    "    aoa_values = [calc_AoA(r, A, B) for r in [0.14,0.3,0.4,0.5,0.6,0.8,0.9,0.96]]\n",
    "    penalty = 0\n",
    "    for aoa in aoa_values:\n",
    "        if aoa > stall_angle or aoa < 0:\n",
    "            penalty += abs(aoa - stall_angle) + abs(aoa)\n",
    "    return penalty\n",
    "initial_guess = [0.9, -1.5]\n",
    "bounds = [(0.2, 2), (-2,2 )]\n",
    "result = minimize(objecive, initial_guess, bounds = bounds)\n",
    "final_A, final_B = result.x\n",
    "\n",
    "print(round(final_A,4), round(final_B,4))\n",
    "print(result.fun)"
   ]
  },
  {
   "cell_type": "code",
   "execution_count": 349,
   "metadata": {},
   "outputs": [
    {
     "name": "stdout",
     "output_type": "stream",
     "text": [
      "At a position r/R = 0.2, 0.75 the twist angle is 1.0210, 1.3262\n",
      "Mean Chord Length : 0.06200000000000001\n"
     ]
    }
   ],
   "source": [
    "def linear_twist(r_ratio):\n",
    "    e,f = final_A, final_B\n",
    "    # return  e + f*r_ratio*rBlade\n",
    "    return 0.91 + 0.74*r_ratio*rBlade\n",
    "def linear_taper(r_ratio):\n",
    "    # return 0.1 - 0.02*r_ratio*rBlade\n",
    "    return 0.07-0.02*r_ratio*rBlade\n",
    "print(f'At a position r/R = 0.2, 0.75 the twist angle is {linear_twist(0.2):.4f}, {linear_twist(0.75):.4f}')\n",
    "radii = np.linspace(R_co, rBlade, 100)\n",
    "c_r = [linear_taper(r/rBlade) for r in radii ]\n",
    "c_mean = np.mean(c_r)\n",
    "print(f'Mean Chord Length : {c_mean}')"
   ]
  },
  {
   "cell_type": "code",
   "execution_count": 350,
   "metadata": {},
   "outputs": [],
   "source": [
    "rotorBlade = BETheory(\n",
    "    angular_vel = angular_vel, no_of_blades= b, chord_mean= c_mean, \n",
    "    radius= rBlade, lift_slope=lift_slope, linear_twist=linear_twist, \n",
    "    climb_vel=V ,induced_vel= vel_power, root_cutouts=R_co) # I am using vel_power function defined for MT here"
   ]
  },
  {
   "cell_type": "code",
   "execution_count": 351,
   "metadata": {},
   "outputs": [],
   "source": [
    "rotor = BEMTheory(\n",
    "    angular_vel = angular_vel, no_of_blades= b, \n",
    "    radius= rBlade, lift_slope=lift_slope, linear_twist=linear_twist, \n",
    "    climb_vel=V , root_cutouts=R_co, linear_taper=linear_taper)"
   ]
  },
  {
   "cell_type": "code",
   "execution_count": 352,
   "metadata": {},
   "outputs": [
    {
     "name": "stdout",
     "output_type": "stream",
     "text": [
      "C_P\n"
     ]
    },
    {
     "name": "stdout",
     "output_type": "stream",
     "text": [
      "BET:0.0296, BEMT: 0.0228\n",
      "C_T\n",
      "BET:0.0949, BEMT: 0.1145\n",
      "----------\n",
      "BET:  Lamda: 0.3102\n",
      "BEMT is a func(r) Lamda,F :(0.19729, 0.9783)\n",
      "Tip Velocity: 28.5000\n"
     ]
    }
   ],
   "source": [
    "r = 0.5/rBlade # this is a ratio x/R\n",
    "print('C_P')\n",
    "print(f'BET:{rotorBlade.C_P():.4f}, BEMT: {rotor.C_P():.4f}')\n",
    "print('C_T')\n",
    "print(f'BET:{rotorBlade.C_T()}, BEMT: {rotor.C_T():.4f}')\n",
    "print('--'*5)\n",
    "print(f'BET:  Lamda: {rotorBlade.lamda :.4f}')\n",
    "print(f'BEMT is a func(r) Lamda,F :{rotor.lamda_tipLoss(r)}')\n",
    "print(f'Tip Velocity: {angular_vel*rBlade:.4f}')"
   ]
  },
  {
   "cell_type": "code",
   "execution_count": 353,
   "metadata": {},
   "outputs": [
    {
     "name": "stdout",
     "output_type": "stream",
     "text": [
      "0.2959, 0.2877\n"
     ]
    }
   ],
   "source": [
    "val = rotor.lamda_tipLoss(r)[0]/r\n",
    "print(f'{val:.4f}, {np.arctan(val):.4f}')"
   ]
  },
  {
   "cell_type": "code",
   "execution_count": 354,
   "metadata": {},
   "outputs": [
    {
     "data": {
      "text/plain": [
       "197.8107885106021"
      ]
     },
     "execution_count": 354,
     "metadata": {},
     "output_type": "execute_result"
    }
   ],
   "source": [
    "rotor.T_traditional()"
   ]
  },
  {
   "cell_type": "code",
   "execution_count": 355,
   "metadata": {},
   "outputs": [
    {
     "name": "stdout",
     "output_type": "stream",
     "text": [
      "POWER\n",
      "MT: 1299.566, BET:1456.414, BEMT: 1125.223\n",
      "Thrust\n",
      "MT: 147.000, BET:163.998, BEMT: 197.811\n",
      "Induced Vel\n",
      "MT: 3.841, BET:3.841, BEMT = func(r): 0.623\n"
     ]
    }
   ],
   "source": [
    "print('POWER')\n",
    "print(f'MT:{powerClimb: .3f}, BET:{rotorBlade.P():.3f}, BEMT: {rotor.P():.3f}')\n",
    "print('Thrust')\n",
    "print(f'MT:{T_air: .3f}, BET:{rotorBlade.T():.3f}, BEMT: {rotor.T_traditional():.3f}')\n",
    "print('Induced Vel')\n",
    "print(f'MT: {vel_power(V)[0]:.3f}, BET:{vel_power(V)[0]:.3f}, BEMT = func(r): {round(rotor.lamda_tipLoss(r)[0]*angular_vel*rBlade - V,5) :.3f}')"
   ]
  },
  {
   "cell_type": "code",
   "execution_count": 356,
   "metadata": {},
   "outputs": [],
   "source": [
    "# the thrust with blade element momentum theory is more than BE. somethings wrong.\\\n",
    "# u have to get lesser thrust with non uniform velocity\n",
    "#Okay it needs more power clearly. So I suppose the thrust is more here but power required is more too."
   ]
  }
 ],
 "metadata": {
  "kernelspec": {
   "display_name": "Python 3",
   "language": "python",
   "name": "python3"
  },
  "language_info": {
   "codemirror_mode": {
    "name": "ipython",
    "version": 3
   },
   "file_extension": ".py",
   "mimetype": "text/x-python",
   "name": "python",
   "nbconvert_exporter": "python",
   "pygments_lexer": "ipython3",
   "version": "3.10.12"
  },
  "orig_nbformat": 4
 },
 "nbformat": 4,
 "nbformat_minor": 2
}
