{
 "cells": [
  {
   "cell_type": "code",
   "execution_count": 10,
   "metadata": {},
   "outputs": [],
   "source": [
    "import os\n",
    "os.chdir('../rotaryWing/')\n",
    "# This file was used to fill the Blade 2 Section of the table"
   ]
  },
  {
   "cell_type": "code",
   "execution_count": 11,
   "metadata": {},
   "outputs": [
    {
     "name": "stdout",
     "output_type": "stream",
     "text": [
      "The autoreload extension is already loaded. To reload it, use:\n",
      "  %reload_ext autoreload\n"
     ]
    }
   ],
   "source": [
    "import numpy as np\n",
    "import matplotlib.pyplot as plt\n",
    "import math\n",
    "import pandas as pd\n",
    "from tools.BET import BETheory\n",
    "from tools.BEM import BEMTheory\n",
    "from tools.airfoil import airfoil\n",
    "\n",
    "%matplotlib inline\n",
    "%load_ext autoreload\n",
    "%autoreload 2"
   ]
  },
  {
   "cell_type": "code",
   "execution_count": 12,
   "metadata": {},
   "outputs": [],
   "source": [
    "roAir = 1.225   # kg/m3 density of air\n",
    "roWater = 1000  # kg/m3\n",
    "g = 9.8         # m/s2\n",
    "\n",
    "# The airfoil : NACA 2412.\n",
    "lift_slope = 2*np.pi\n",
    "\n",
    "rBlade = 1.18 # m  Radius of the blade(rough estimate)\n",
    "R_co = 0.2 # mine was 0.15\n",
    "massOfStrutcutre= 10# kg this mass of everything other than payload mass.\n",
    "omega_air = 700*2*np.pi/60 \n",
    "omega_water = 28*2*np.pi/60\n",
    "V = 0\n",
    "# Given\n",
    "massOfPayload = 5\n",
    "volOfPayload = 0.0025\n",
    "b = 2       # no of Blades . Tentatively decided on three\n",
    "areaBlade = np.pi*(rBlade**2)\n",
    "\n",
    "total_vol = 0.008 # The payload is gonna be taking a place inside this volume\n"
   ]
  },
  {
   "cell_type": "code",
   "execution_count": 13,
   "metadata": {},
   "outputs": [
    {
     "name": "stdout",
     "output_type": "stream",
     "text": [
      "544.4224 6.0746\n"
     ]
    }
   ],
   "source": [
    "def vel_power(V, medium='air'):\n",
    "    if medium == 'air':\n",
    "        T = (massOfStrutcutre + massOfPayload)*g; ro = roAir\n",
    "    elif medium == 'water':\n",
    "        ro = roWater\n",
    "        T = (massOfStrutcutre + massOfPayload)*g - total_vol*ro*g\n",
    "        \n",
    "    ind_vel_MT = (-1*V/2) + np.sqrt(((V/2)**2) + (T/(2*ro*areaBlade)))\n",
    "    power = T*(V + ind_vel_MT)\n",
    "    return round(ind_vel_MT, 5) , round(power,4)\n",
    "idealP_air = vel_power(V, 'air')[1]\n",
    "ideaP_water = vel_power(V,'water')[1]\n",
    "print(idealP_air, ideaP_water)"
   ]
  },
  {
   "cell_type": "code",
   "execution_count": 14,
   "metadata": {},
   "outputs": [],
   "source": [
    "collective_pitch_air = 13*np.pi/180\n",
    "collective_pitch_water = 16*np.pi/180\n",
    "def linear_taper(r_ratio):\n",
    "    return 0.1 - 0.03*r_ratio*rBlade\n",
    "def linear_twist_air(r_ratio):\n",
    "    return collective_pitch_air\n",
    "def linear_twist_water(r_ratio):\n",
    "    return collective_pitch_water\n",
    "def drag_air(AoA):\n",
    "    return 0.015\n",
    "def drag_water(AoA):\n",
    "    return 0.2"
   ]
  },
  {
   "cell_type": "code",
   "execution_count": 15,
   "metadata": {},
   "outputs": [],
   "source": [
    "rotor_air = BEMTheory(\n",
    "                angular_vel = omega_air, no_of_blades= b, \n",
    "                radius= rBlade, lift_slope=lift_slope, drag = drag_air, linear_twist=linear_twist_air, \n",
    "                climb_vel=V , root_cutouts=R_co, linear_taper=linear_taper)\n",
    "rotor_water = BEMTheory(\n",
    "                angular_vel = omega_water, no_of_blades= b, \n",
    "                radius= rBlade, lift_slope=lift_slope, drag = drag_water, linear_twist=linear_twist_water, \n",
    "                climb_vel=V , root_cutouts=R_co, linear_taper=linear_taper, medium='water')"
   ]
  },
  {
   "cell_type": "code",
   "execution_count": 16,
   "metadata": {},
   "outputs": [
    {
     "name": "stdout",
     "output_type": "stream",
     "text": [
      "Air : T,P = 341.4597, 665.8802\n",
      "Water : T,P = 406.9592, 267.0623\n"
     ]
    }
   ],
   "source": [
    "print(f'Air : T,P = {rotor_air.T():.4f}, {rotor_air.P():.4f}')\n",
    "print(f'Water : T,P = {rotor_water.T():.4f}, {rotor_water.P():.4f}')"
   ]
  },
  {
   "cell_type": "code",
   "execution_count": 17,
   "metadata": {},
   "outputs": [
    {
     "name": "stdout",
     "output_type": "stream",
     "text": [
      "10.605 --- 6.655\n",
      "11.142 --- 8.133\n",
      "11.405 --- 8.972\n",
      "11.504 --- 9.314\n",
      "11.591 --- 9.619\n",
      "11.734 --- 10.143\n",
      "11.828 --- 10.505\n",
      "11.899 --- 10.795\n",
      "11.945 --- 10.997\n",
      "12.027 --- 11.447\n",
      "12.065 --- 11.796\n",
      "12.092 --- 12.252\n"
     ]
    }
   ],
   "source": [
    "for r_ratio in [0.18,0.3,0.4,0.45,0.5,0.6,0.68,0.75,0.8,0.9,0.95,0.98]:\n",
    "    print(round(rotor_air.AoA(r_ratio)*180/np.pi,3), '-'*3,  round(rotor_water.AoA(r_ratio)*180/np.pi,3))"
   ]
  },
  {
   "cell_type": "code",
   "execution_count": null,
   "metadata": {},
   "outputs": [],
   "source": []
  },
  {
   "cell_type": "code",
   "execution_count": null,
   "metadata": {},
   "outputs": [],
   "source": []
  }
 ],
 "metadata": {
  "kernelspec": {
   "display_name": "Python 3",
   "language": "python",
   "name": "python3"
  },
  "language_info": {
   "codemirror_mode": {
    "name": "ipython",
    "version": 3
   },
   "file_extension": ".py",
   "mimetype": "text/x-python",
   "name": "python",
   "nbconvert_exporter": "python",
   "pygments_lexer": "ipython3",
   "version": "3.10.12"
  },
  "orig_nbformat": 4
 },
 "nbformat": 4,
 "nbformat_minor": 2
}
