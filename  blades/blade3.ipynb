{
 "cells": [
  {
   "cell_type": "code",
   "execution_count": 7,
   "metadata": {},
   "outputs": [],
   "source": [
    "import os\n",
    "os.chdir('../rotaryWing/')"
   ]
  },
  {
   "cell_type": "code",
   "execution_count": 8,
   "metadata": {},
   "outputs": [
    {
     "name": "stdout",
     "output_type": "stream",
     "text": [
      "The autoreload extension is already loaded. To reload it, use:\n",
      "  %reload_ext autoreload\n"
     ]
    }
   ],
   "source": [
    "import numpy as np\n",
    "import matplotlib.pyplot as plt\n",
    "import math\n",
    "import pandas as pd\n",
    "from tools.BET import BETheory\n",
    "from tools.BEM import BEMTheory\n",
    "from tools.airfoil import airfoil\n",
    "\n",
    "%matplotlib inline\n",
    "%load_ext autoreload\n",
    "%autoreload 2"
   ]
  },
  {
   "cell_type": "code",
   "execution_count": 9,
   "metadata": {},
   "outputs": [],
   "source": [
    "roAir = 1.225   # kg/m3 density of air\n",
    "roWater = 1000  # kg/m3\n",
    "g = 9.8         # m/s2\n",
    "\n",
    "# The airfoil : NACA 0024.\n",
    "airfoil = airfoil('./airfoil_data/xf-naca0024-il-500000.csv')\n",
    "lift_slope = airfoil.a()\n",
    "rBlade = 1 # m  Radius of the blade(rough estimate)\n",
    "R_co = 0.2 # mine was 0.15\n",
    "omega_air = 650*2*np.pi/60 \n",
    "omega_water = 25*2*np.pi/60\n",
    "V = 0\n",
    "\n",
    "massOfStrutcutre= 10# kg this mass of everything other than payload mass.\n",
    "# Given\n",
    "massOfPayload = 5\n",
    "volOfPayload = 0.0025\n",
    "b = 3       # no of Blades . Tentatively decided on three\n",
    "areaBlade = np.pi*(rBlade**2)\n",
    "total_vol = 0.008 # The payload is gonna be taking a place inside this volume\n"
   ]
  },
  {
   "cell_type": "code",
   "execution_count": 10,
   "metadata": {},
   "outputs": [
    {
     "name": "stdout",
     "output_type": "stream",
     "text": [
      "642.4185 7.168\n"
     ]
    }
   ],
   "source": [
    "def vel_power(V, medium='air'):\n",
    "    if medium == 'air':\n",
    "        T = (massOfStrutcutre + massOfPayload)*g; ro = roAir\n",
    "    elif medium == 'water':\n",
    "        ro = roWater\n",
    "        T = (massOfStrutcutre + massOfPayload)*g - total_vol*ro*g\n",
    "        \n",
    "    ind_vel_MT = (-1*V/2) + np.sqrt(((V/2)**2) + (T/(2*ro*areaBlade)))\n",
    "    power = T*(V + ind_vel_MT)\n",
    "    return round(ind_vel_MT, 5) , round(power,4)\n",
    "idealP_air = vel_power(V, 'air')[1]\n",
    "ideaP_water = vel_power(V,'water')[1]\n",
    "print(idealP_air, ideaP_water)"
   ]
  },
  {
   "cell_type": "code",
   "execution_count": 11,
   "metadata": {},
   "outputs": [],
   "source": [
    "collective_pitch_air = 6*np.pi/180\n",
    "collective_pitch_water = 5*np.pi/180\n",
    "def linear_taper(r_ratio):\n",
    "    return 0.15 - 0.02*r_ratio*rBlade\n",
    "def linear_twist_air(r_ratio):\n",
    "    return collective_pitch_air\n",
    "def linear_twist_water(r_ratio):\n",
    "    return collective_pitch_water\n",
    "def drag_air(AoA):\n",
    "    return 0.013\n",
    "def drag_water(AoA):\n",
    "    return 0.15\n",
    "radii = np.linspace(R_co, rBlade, 100)\n",
    "c_r = [linear_taper(r/rBlade) for r in radii ]\n",
    "c_mean = np.mean(c_r)"
   ]
  },
  {
   "cell_type": "code",
   "execution_count": 12,
   "metadata": {},
   "outputs": [],
   "source": [
    "rotor_air = BEMTheory(\n",
    "                angular_vel = omega_air, no_of_blades= b, \n",
    "                radius= rBlade, lift_slope=lift_slope, drag = drag_air, linear_twist=linear_twist_air, \n",
    "                climb_vel=V , root_cutouts=R_co, linear_taper=linear_taper)\n",
    "rotor_water = BEMTheory(\n",
    "                angular_vel = omega_water, no_of_blades= b, \n",
    "                radius= rBlade, lift_slope=lift_slope, drag = drag_water, linear_twist=linear_twist_water, \n",
    "                climb_vel=V , root_cutouts=R_co, linear_taper=linear_taper, medium='water')"
   ]
  },
  {
   "cell_type": "code",
   "execution_count": 13,
   "metadata": {},
   "outputs": [
    {
     "name": "stdout",
     "output_type": "stream",
     "text": [
      "Air : T,P = 167.4234, 428.9485\n",
      "Water : T,P = 69.1585, 143.1832\n"
     ]
    }
   ],
   "source": [
    "print(f'Air : T,P = {rotor_air.T():.4f}, {rotor_air.P():.4f}')\n",
    "print(f'Water : T,P = {rotor_water.T():.4f}, {rotor_water.P():.4f}')"
   ]
  },
  {
   "cell_type": "code",
   "execution_count": 14,
   "metadata": {},
   "outputs": [
    {
     "name": "stdout",
     "output_type": "stream",
     "text": [
      "3.74 --- 0.57\n",
      "4.17 --- 0.84\n",
      "4.39 --- 1.03\n",
      "4.47 --- 1.12\n",
      "4.54 --- 1.2\n",
      "4.66 --- 1.34\n",
      "4.74 --- 1.45\n",
      "4.8 --- 1.54\n",
      "4.84 --- 1.6\n",
      "4.9 --- 1.76\n",
      "4.93 --- 2.0\n",
      "4.96 --- 2.44\n"
     ]
    }
   ],
   "source": [
    "for r_ratio in [0.18,0.3,0.4,0.45,0.5,0.6,0.68,0.75,0.8,0.9,0.95,0.98]:\n",
    "    print(round(rotor_air.AoA(r_ratio)*180/np.pi,2), '-'*3,  round(rotor_water.AoA(r_ratio)*180/np.pi,2))"
   ]
  },
  {
   "cell_type": "code",
   "execution_count": 15,
   "metadata": {},
   "outputs": [
    {
     "name": "stdout",
     "output_type": "stream",
     "text": [
      "Reynolds Number Air: 45665.122435, Water: 544593.528019\n"
     ]
    }
   ],
   "source": [
    "#Reynolds Number\n",
    "kinematic_viscosity_water = 1.267e-6\n",
    "kinematic_viscosity_air   = 1.511e-5\n",
    "re_air = 5*c_mean/kinematic_viscosity_air\n",
    "re_water = 5*c_mean/kinematic_viscosity_water\n",
    "print(f'Reynolds Number Air: {re_air:1f}, Water: {re_water:1f}')"
   ]
  },
  {
   "cell_type": "code",
   "execution_count": null,
   "metadata": {},
   "outputs": [],
   "source": []
  }
 ],
 "metadata": {
  "kernelspec": {
   "display_name": "Python 3",
   "language": "python",
   "name": "python3"
  },
  "language_info": {
   "codemirror_mode": {
    "name": "ipython",
    "version": 3
   },
   "file_extension": ".py",
   "mimetype": "text/x-python",
   "name": "python",
   "nbconvert_exporter": "python",
   "pygments_lexer": "ipython3",
   "version": "3.10.12"
  },
  "orig_nbformat": 4
 },
 "nbformat": 4,
 "nbformat_minor": 2
}
